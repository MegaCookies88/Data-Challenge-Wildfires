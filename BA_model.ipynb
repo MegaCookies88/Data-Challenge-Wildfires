{
 "cells": [
  {
   "cell_type": "code",
   "execution_count": 64,
   "metadata": {},
   "outputs": [],
   "source": [
    "import pandas as pd\n",
    "import math\n",
    "import numpy as np\n",
    "from scipy import stats\n",
    "\n",
    "import matplotlib.pyplot as plt\n",
    "%matplotlib inline\n",
    "import seaborn as sns\n",
    "sns.set_theme(style='whitegrid')\n",
    "\n",
    "from sklearn.preprocessing import StandardScaler\n",
    "from sklearn.model_selection import train_test_split, GridSearchCV\n",
    "from sklearn.pipeline import Pipeline\n",
    "from sklearn.decomposition import PCA\n",
    "from sklearn.ensemble import RandomForestClassifier\n",
    "from sklearn.neural_network import MLPClassifier\n",
    "from sklearn.metrics import confusion_matrix, accuracy_score, balanced_accuracy_score\n",
    "from imblearn.under_sampling import RandomUnderSampler\n",
    "from imblearn.over_sampling import SMOTE, RandomOverSampler\n",
    "import xgboost as xgb"
   ]
  },
  {
   "cell_type": "code",
   "execution_count": 2,
   "metadata": {},
   "outputs": [],
   "source": [
    "# Defining Thresholds and Scoring Function\n",
    "u_CNT = list(range(0,11))+[2*x for x in range(6,16)]+[10*x for x in range(4,11)]\n",
    "u_BA  = [0,1]+[10*x for x in range(1,11)]+[50*x for x in range(3,7)]+[400,500,1000,1500,2000,5000]+[10000*x for x in range(1,6)]+[100000]\n",
    "\n",
    "w_CNT = [1-(1+(x+1)**2/1000)**(-1/4) for x in u_CNT] \n",
    "w_CNT = [x/w_CNT[-1] for x in w_CNT] \n",
    "\n",
    "w_BA  = [1-(1+(x+1)/1000)**(-1/4) for x in u_BA]\n",
    "w_BA  = [x/w_BA[-1] for x in w_BA]\n",
    "\n",
    "def ba_score(y_test, prediction_dist):  \n",
    "    S_BA  = 0\n",
    "    for i in range(len(y_test)):\n",
    "        S_BA = S_BA + np.sum([w_BA[x]*(int(u_BA[x]>=y_test.iloc[i])-prediction_dist.iloc[i,x])**2 for x in range(len(u_BA))])\n",
    "    return S_BA"
   ]
  },
  {
   "cell_type": "code",
   "execution_count": 55,
   "metadata": {},
   "outputs": [],
   "source": [
    "# Loading data\n",
    "data = pd.read_csv('data/data_train_DF.csv')\n",
    "data.drop('Unnamed: 0', axis=1, inplace=True)\n",
    "\n",
    "# Replacing clim1 and clim2 by wind\n",
    "data['wind'] = np.sqrt(data.clim1**2+data.clim2**2)\n",
    "data.drop(['clim1','clim2'], axis=1, inplace=True)\n",
    "\n",
    "# Adding relative humidity\n",
    "data['RH'] = 100 * np.exp(17.625*(data.clim3-273.15)/(data.clim3-39.11)) / np.exp(17.625*(data.clim4-273.15)/(data.clim4-39.11))\n",
    "\n",
    "# Changing month to factor and dropping area and year\n",
    "data.drop(['area','year'], axis=1, inplace=True)\n",
    "### BUGS CORRECT LATER : data['month'] = data['month'].astype('category')\n",
    "\n",
    "# Dropping NA in new dataframe\n",
    "data_validation = data[data.BA.isna() | data.CNT.isna()]\n",
    "data.dropna(inplace=True)\n",
    "\n",
    "# List of labels by type\n",
    "clim_labels = ['altiMean', 'altiSD', 'clim3', 'clim4', 'clim5', 'clim6', 'clim7', 'clim8','clim9', 'clim10', 'wind', 'RH']\n",
    "land_labels = ['lc1','lc2','lc3','lc4','lc5','lc6','lc7','lc8','lc9','lc10','lc11','lc12','lc13','lc14','lc15','lc16','lc17','lc18']\n",
    "\n",
    "# Splitting data to train/test\n",
    "X_train, X_test, y_train, y_test = train_test_split(data.drop('BA', axis=1), data['BA'], test_size=0.9, random_state=42)\n",
    "\n",
    "# Standardizing climate variables\n",
    "scaler = StandardScaler()\n",
    "X_train[land_labels+clim_labels] = scaler.fit_transform(X_train[land_labels+clim_labels])\n",
    "X_test[land_labels+clim_labels]  = scaler.fit_transform(X_test[land_labels+clim_labels])\n",
    "\n",
    "# Adding mean CNT per voxel\n",
    "mean_CNT_voxel = X_train.groupby(['lon','lat'])[['CNT']].mean()\n",
    "X_train['mean_fire'] = X_train.apply(lambda x: mean_CNT_voxel.loc[x.lon,x.lat], axis=1)\n",
    "X_test['mean_fire']  = X_test.apply(lambda x: mean_CNT_voxel.loc[x.lon,x.lat], axis=1)"
   ]
  },
  {
   "cell_type": "markdown",
   "metadata": {},
   "source": [
    "# Summary\n",
    "1. Classify BA into 3 classes : 0 or 0-T or >T (T the threshold)\n",
    "2. Model BA in 0-T\n",
    "3. Model BA >T"
   ]
  },
  {
   "cell_type": "code",
   "execution_count": 56,
   "metadata": {},
   "outputs": [
    {
     "name": "stdout",
     "output_type": "stream",
     "text": [
      "X_train shape : (45293, 35) \n",
      "X_test shape  : (407637, 35)\n"
     ]
    }
   ],
   "source": [
    "# Classification threshold\n",
    "threshold = 200\n",
    "\n",
    "# Class encoding of y_train/y_test \n",
    "new_y_train = y_train.apply(lambda x: 0 if x==0 else 1 if x<=threshold else 2)\n",
    "new_y_test  = y_test.apply(lambda x: 0 if x==0 else 1 if x<=threshold else 2)\n",
    "\n",
    "print('X_train shape :', X_train.shape, '\\nX_test shape  :', X_test.shape)"
   ]
  },
  {
   "cell_type": "code",
   "execution_count": 57,
   "metadata": {},
   "outputs": [
    {
     "data": {
      "image/png": "[encoded data removed]",
      "text/plain": [
       "<Figure size 1080x360 with 3 Axes>"
      ]
     },
     "metadata": {},
     "output_type": "display_data"
    }
   ],
   "source": [
    "# Visualisation of the problem\n",
    "fig, ax = plt.subplots(1,3, figsize=(15,5))\n",
    "\n",
    "sns.histplot(x=data[(data.BA>0) & (data.BA<=threshold)].BA, log_scale=False, bins=50, ax=ax[0])\n",
    "ax[0].set_xlabel('BA')\n",
    "ax[0].set_title('0 < BA < T')\n",
    "\n",
    "sns.histplot(x=np.log(data[data.BA>threshold].BA/threshold), log_scale=False, bins=50, ax=ax[1])\n",
    "ax[1].set_xlabel('log(BA/T)')\n",
    "ax[1].set_title('BA > T')\n",
    "\n",
    "sns.barplot(x=[0,1,2], y=100*new_y_train.value_counts(normalize=True), palette='Blues', ax=ax[2])\n",
    "ax[2].set_title('Class Balance');"
   ]
  },
  {
   "cell_type": "code",
   "execution_count": 86,
   "metadata": {},
   "outputs": [
    {
     "name": "stdout",
     "output_type": "stream",
     "text": [
      "Shape of X before SMOTE: (45293, 34)\n",
      "Shape of X after  SMOTE: (84321, 34)\n",
      "\n",
      "Balance of positive and negative classes (%):\n"
     ]
    },
    {
     "data": {
      "text/plain": [
       "2    33.333333\n",
       "1    33.333333\n",
       "0    33.333333\n",
       "Name: BA, dtype: float64"
      ]
     },
     "execution_count": 86,
     "metadata": {},
     "output_type": "execute_result"
    }
   ],
   "source": [
    "weights = new_y_train.value_counts()\n",
    "\n",
    "under = RandomUnderSampler(sampling_strategy={0:int(0.95*weights[2]), 1:int(weights[1]/5), 2:weights[2]}, random_state=42)\n",
    "under = RandomUnderSampler(sampling_strategy={0:int(weights[1]), 1:int(weights[1]), 2:int(weights[2])}, random_state=42)\n",
    "\n",
    "over  = SMOTE(random_state=42)\n",
    "over  = RandomOverSampler(random_state=42)\n",
    "\n",
    "X_s, y_s = under.fit_resample(X_train.drop(['CNT'], axis=1), new_y_train)\n",
    "\n",
    "print(f'''Shape of X before SMOTE: {X_train.drop(['CNT'], axis=1).shape}''')\n",
    "print(f'''Shape of X after  SMOTE: {X_s.shape}''')\n",
    "print('\\nBalance of positive and negative classes (%):')\n",
    "y_s.value_counts(normalize=True) * 100"
   ]
  },
  {
   "cell_type": "code",
   "execution_count": 87,
   "metadata": {},
   "outputs": [
    {
     "name": "stdout",
     "output_type": "stream",
     "text": [
      "ACCURACY 72 %\n",
      "ACCURACY CLASS 0: 78 % - 1: 65 % - 2: 45 %\n",
      "BALANCED ACCURACY 35 %\n"
     ]
    }
   ],
   "source": [
    "#clf = RandomForestClassifier(max_depth=6, n_estimators=500, n_jobs=8, bootstrap=False, max_features=None, class_weight='balanced', random_state=42)\n",
    "#clf = lm.LogisticRegression(max_iter=200, solver='lbfgs', class_weight={0:1, 1:3, 2:2}, n_jobs=8, random_state=42)\n",
    "clf = MLPClassifier(max_iter=300, activation='relu', alpha=0.01, learning_rate='adaptive', hidden_layer_sizes=100, random_state=42)\n",
    "\n",
    "pipe = Pipeline([('pca', PCA()), ('clf', clf)])\n",
    "\n",
    "pipe.fit(X_s, y_s)\n",
    "\n",
    "print('ACCURACY %2.0f %%' % (100*pipe.score(X_test.drop(['CNT'], axis=1), new_y_test)))\n",
    "\n",
    "acl = [100*accuracy_score(pipe.predict(X_test[new_y_test==c].drop(['CNT'], axis=1)), new_y_test[new_y_test==c]) for c in [0,1,2]]\n",
    "print('ACCURACY CLASS 0: %2.0f %% - 1: %2.0f %% - 2: %2.0f %%' % (acl[0],acl[1],acl[2]))\n",
    "\n",
    "print('BALANCED ACCURACY %2.0f %%' % \n",
    "      (100*balanced_accuracy_score(pipe.predict(X_test.drop(['CNT'], axis=1)), new_y_test, adjusted=True)))"
   ]
  },
  {
   "cell_type": "code",
   "execution_count": 68,
   "metadata": {},
   "outputs": [
    {
     "data": {
      "text/html": [
       "<div>\n",
       "<style scoped>\n",
       "    .dataframe tbody tr th:only-of-type {\n",
       "        vertical-align: middle;\n",
       "    }\n",
       "\n",
       "    .dataframe tbody tr th {\n",
       "        vertical-align: top;\n",
       "    }\n",
       "\n",
       "    .dataframe thead th {\n",
       "        text-align: right;\n",
       "    }\n",
       "</style>\n",
       "<table border=\"1\" class=\"dataframe\">\n",
       "  <thead>\n",
       "    <tr style=\"text-align: right;\">\n",
       "      <th></th>\n",
       "      <th>0</th>\n",
       "      <th>1</th>\n",
       "      <th>2</th>\n",
       "      <th>3</th>\n",
       "      <th>4</th>\n",
       "      <th>5</th>\n",
       "      <th>6</th>\n",
       "      <th>7</th>\n",
       "      <th>8</th>\n",
       "      <th>9</th>\n",
       "      <th>10</th>\n",
       "    </tr>\n",
       "  </thead>\n",
       "  <tbody>\n",
       "    <tr>\n",
       "      <th>0</th>\n",
       "      <td>0.035758</td>\n",
       "      <td>0.454625</td>\n",
       "      <td>0.003956</td>\n",
       "      <td>0.096765</td>\n",
       "      <td>0.265712</td>\n",
       "      <td>0.726694</td>\n",
       "      <td>0.617609</td>\n",
       "      <td>0.163774</td>\n",
       "      <td>0.997796</td>\n",
       "      <td>0.511424</td>\n",
       "      <td>0.935568</td>\n",
       "    </tr>\n",
       "    <tr>\n",
       "      <th>1</th>\n",
       "      <td>0.572891</td>\n",
       "      <td>0.532788</td>\n",
       "      <td>0.523996</td>\n",
       "      <td>0.900340</td>\n",
       "      <td>0.705106</td>\n",
       "      <td>0.268319</td>\n",
       "      <td>0.381984</td>\n",
       "      <td>0.834643</td>\n",
       "      <td>0.002202</td>\n",
       "      <td>0.487655</td>\n",
       "      <td>0.064259</td>\n",
       "    </tr>\n",
       "    <tr>\n",
       "      <th>2</th>\n",
       "      <td>0.391351</td>\n",
       "      <td>0.012587</td>\n",
       "      <td>0.472048</td>\n",
       "      <td>0.002894</td>\n",
       "      <td>0.029183</td>\n",
       "      <td>0.004987</td>\n",
       "      <td>0.000407</td>\n",
       "      <td>0.001582</td>\n",
       "      <td>0.000002</td>\n",
       "      <td>0.000921</td>\n",
       "      <td>0.000173</td>\n",
       "    </tr>\n",
       "  </tbody>\n",
       "</table>\n",
       "</div>"
      ],
      "text/plain": [
       "         0         1         2         3         4         5         6   \\\n",
       "0  0.035758  0.454625  0.003956  0.096765  0.265712  0.726694  0.617609   \n",
       "1  0.572891  0.532788  0.523996  0.900340  0.705106  0.268319  0.381984   \n",
       "2  0.391351  0.012587  0.472048  0.002894  0.029183  0.004987  0.000407   \n",
       "\n",
       "         7         8         9         10  \n",
       "0  0.163774  0.997796  0.511424  0.935568  \n",
       "1  0.834643  0.002202  0.487655  0.064259  \n",
       "2  0.001582  0.000002  0.000921  0.000173  "
      ]
     },
     "execution_count": 68,
     "metadata": {},
     "output_type": "execute_result"
    }
   ],
   "source": [
    "# Prediction Class Probabilities\n",
    "p_class = pipe.predict_proba(X_test.drop(['CNT'], axis=1))\n",
    "pd.DataFrame(p_class).head(11).T"
   ]
  },
  {
   "cell_type": "code",
   "execution_count": 101,
   "metadata": {},
   "outputs": [],
   "source": [
    "# Preparing data for xgboost\n",
    "dtrain = xgb.DMatrix(X_train[(y_train>0)&(y_train<=threshold)].drop(['CNT'], axis=1), label=y_train[(y_train>0)&(y_train<=threshold)])\n",
    "dtest = xgb.DMatrix(X_test[(y_test>0)&(y_test<=threshold)].drop(['CNT'], axis=1), label=y_test[(y_test>0)&(y_test<=threshold)])\n",
    "\n",
    "# Performance Evalution\n",
    "evallist = [(dtest, 'eval'), (dtrain, 'train')]\n",
    "\n",
    "# Parameters\n",
    "param = {'max_depth': 2, \n",
    "         'eta': 1, \n",
    "         'objective': 'reg:gamma',\n",
    "         'nthread': 4,\n",
    "         'eval_metric': 'mape'\n",
    "        }"
   ]
  },
  {
   "cell_type": "code",
   "execution_count": 103,
   "metadata": {},
   "outputs": [
    {
     "name": "stdout",
     "output_type": "stream",
     "text": [
      "[0]\teval-mape:3.78233\ttrain-mape:3.46789\n",
      "[1]\teval-mape:8.76490\ttrain-mape:8.04609\n",
      "[2]\teval-mape:18.39521\ttrain-mape:16.96952\n",
      "[3]\teval-mape:31.68332\ttrain-mape:29.25450\n",
      "[4]\teval-mape:39.61291\ttrain-mape:36.96063\n",
      "[5]\teval-mape:40.93997\ttrain-mape:38.34636\n",
      "[6]\teval-mape:37.73665\ttrain-mape:35.19300\n",
      "[7]\teval-mape:33.54094\ttrain-mape:31.16194\n",
      "[8]\teval-mape:33.85800\ttrain-mape:31.50171\n",
      "[9]\teval-mape:33.53533\ttrain-mape:31.12819\n"
     ]
    }
   ],
   "source": [
    "num_round = 10\n",
    "bst = xgb.train(param, dtrain, num_round, evallist)"
   ]
  },
  {
   "cell_type": "code",
   "execution_count": 105,
   "metadata": {},
   "outputs": [
    {
     "data": {
      "text/plain": [
       "array([ 8.303788 , 38.776615 , 38.716034 , ...,  5.999901 ,  1.7095772,\n",
       "        0.9560327], dtype=float32)"
      ]
     },
     "execution_count": 105,
     "metadata": {},
     "output_type": "execute_result"
    }
   ],
   "source": [
    "ypred = bst.predict(dtest)\n",
    "ypred"
   ]
  },
  {
   "cell_type": "code",
   "execution_count": 109,
   "metadata": {},
   "outputs": [
    {
     "data": {
      "text/plain": [
       "(array([ 8.303788 , 38.776615 , 38.716034 , ...,  5.999901 ,  1.7095772,\n",
       "         0.9560327], dtype=float32),\n",
       " 336693     2.920000\n",
       " 52432     53.000000\n",
       " 361818    32.599998\n",
       " 214696     0.500000\n",
       " 326868     3.600000\n",
       "             ...    \n",
       " 3449      38.500000\n",
       " 316643     2.000000\n",
       " 19531     30.200001\n",
       " 17716      0.010000\n",
       " 362077     0.100000\n",
       " Name: BA, Length: 139682, dtype: float64)"
      ]
     },
     "execution_count": 109,
     "metadata": {},
     "output_type": "execute_result"
    }
   ],
   "source": [
    "ypred, y_test[(y_test>0)&(y_test<=threshold)]"
   ]
  },
  {
   "cell_type": "code",
   "execution_count": 110,
   "metadata": {},
   "outputs": [
    {
     "data": {
      "text/plain": [
       "<AxesSubplot:title={'center':'Feature importance'}, xlabel='F score', ylabel='Features'>"
      ]
     },
     "execution_count": 110,
     "metadata": {},
     "output_type": "execute_result"
    },
    {
     "data": {
      "image/png": "[encoded data removed]",
      "text/plain": [
       "<Figure size 432x288 with 1 Axes>"
      ]
     },
     "metadata": {},
     "output_type": "display_data"
    }
   ],
   "source": [
    "xgb.plot_importance(bst)"
   ]
  },
  {
   "cell_type": "code",
   "execution_count": null,
   "metadata": {},
   "outputs": [],
   "source": []
  }
 ],
 "metadata": {
  "kernelspec": {
   "display_name": "Python 3",
   "language": "python",
   "name": "python3"
  },
  "language_info": {
   "codemirror_mode": {
    "name": "ipython",
    "version": 3
   },
   "file_extension": ".py",
   "mimetype": "text/x-python",
   "name": "python",
   "nbconvert_exporter": "python",
   "pygments_lexer": "ipython3",
   "version": "3.8.5"
  }
 },
 "nbformat": 4,
 "nbformat_minor": 4
}
