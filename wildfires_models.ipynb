{
 "cells": [
  {
   "cell_type": "code",
   "execution_count": null,
   "metadata": {},
   "outputs": [],
   "source": [
    "import pandas as pd\n",
    "import math\n",
    "import numpy as np\n",
    "from scipy import stats\n",
    "\n",
    "import matplotlib.pyplot as plt\n",
    "%matplotlib inline\n",
    "import seaborn as sns\n",
    "sns.set_theme(style='whitegrid')"
   ]
  },
  {
   "cell_type": "code",
   "execution_count": null,
   "metadata": {},
   "outputs": [],
   "source": [
    "data = pd.read_csv('data/data_train_DF.csv')\n",
    "data.drop('Unnamed: 0', axis=1, inplace=True)\n",
    "\n",
    "# Replacing clim1 and clim2 by wind\n",
    "data['wind'] = np.sqrt(data.clim1**2+data.clim2**2)\n",
    "data.drop(['clim1','clim2'], axis=1, inplace=True)\n",
    "\n",
    "# Relative humidity\n",
    "data['RH'] = 100 * np.exp(17.625*(data.clim3-273.15)/(data.clim3-39.11)) / np.exp(17.625*(data.clim4-273.15)/(data.clim4-39.11))\n",
    "\n",
    "# Dropping NA in new dataframe\n",
    "data_validation = data[data.BA.isna() | data.CNT.isna()]\n",
    "data.dropna(inplace=True)\n",
    "    \n",
    "data"
   ]
  },
  {
   "cell_type": "code",
   "execution_count": null,
   "metadata": {},
   "outputs": [],
   "source": [
    "# List of labels by type\n",
    "clim_labels = ['altiMean', 'altiSD', 'clim3', 'clim4', 'clim5', 'clim6', 'clim7', 'clim8','clim9', 'clim10', 'wind', 'RH']\n",
    "land_labels = ['lc1','lc2','lc3','lc4','lc5','lc6','lc7','lc8','lc9','lc10','lc11','lc12','lc13','lc14','lc15','lc16','lc17','lc18']"
   ]
  },
  {
   "cell_type": "code",
   "execution_count": null,
   "metadata": {},
   "outputs": [],
   "source": [
    "from sklearn.preprocessing import StandardScaler\n",
    "\n",
    "# Splitting data to train/test\n",
    "X_train = data[data.year.isin([1995,2005,2015])].drop('BA', axis=1)\n",
    "y_train = data[data.year.isin([1995,2005,2015])][['BA']]\n",
    "X_test  = data[data.year.isin([1997,2007])].drop('BA', axis=1)\n",
    "y_test  = data[data.year.isin([1997,2007])][['BA']]\n",
    "\n",
    "# Standardizing climate variables\n",
    "scaler = StandardScaler()\n",
    "X_train[clim_labels] = scaler.fit_transform(X_train[clim_labels])\n",
    "X_test[clim_labels] = scaler.fit_transform(X_test[clim_labels])"
   ]
  },
  {
   "cell_type": "code",
   "execution_count": null,
   "metadata": {},
   "outputs": [],
   "source": [
    "# Adding mean CNT per voxel\n",
    "mean_CNT_voxel = X_train.groupby(['lon','lat'])[['CNT']].mean()\n",
    "X_train['mean_fire'] = X_train.apply(lambda x: mean_CNT_voxel.loc[x.lon,x.lat], axis=1)\n",
    "X_test['mean_fire'] = X_test.apply(lambda x: mean_CNT_voxel.loc[x.lon,x.lat], axis=1)"
   ]
  },
  {
   "cell_type": "code",
   "execution_count": null,
   "metadata": {},
   "outputs": [],
   "source": [
    "# Defining Thresholds and Scoring Function\n",
    "\n",
    "u_CNT = list(range(0,11))+[2*x for x in range(6,16)]+[10*x for x in range(4,11)]\n",
    "u_BA  = [0,1]+[10*x for x in range(1,11)]+[50*x for x in range(3,7)]+[400,500,1000,1500,2000,5000]+[10000*x for x in range(1,6)]+[100000]\n",
    "\n",
    "w_CNT = [1-(1+(x+1)**2/1000)**(-1/4) for x in u_CNT] \n",
    "w_CNT = [x/w_CNT[-1] for x in w_CNT] \n",
    "\n",
    "w_BA  = [1-(1+(x+1)/1000)**(-1/4) for x in u_BA]\n",
    "w_BA  = [x/w_BA[-1] for x in w_BA]\n",
    "\n",
    "def cnt_score(y_test, prediction_dist):  \n",
    "    S_CNT  = 0\n",
    "    for i in range(len(actual)):\n",
    "        S_CNT = S_CNT + np.sum([w_CNT[x]*(int(u_CNT[x]>=y_test.iloc[i])-prediction_dist.iloc[i,x])**2 for x in range(len(u_CNT))])\n",
    "    return S_CNT\n",
    "\n",
    "def ba_score(y_test, prediction_dist):  \n",
    "    S_BA  = 0\n",
    "    for i in range(len(y_test)):\n",
    "        S_BA = S_BA + np.sum([w_BA[x]*(int(u_BA[x]>=y_test.iloc[i])-prediction_dist.iloc[i,x])**2 for x in range(len(u_BA))])\n",
    "    return S_BA"
   ]
  },
  {
   "cell_type": "code",
   "execution_count": null,
   "metadata": {},
   "outputs": [],
   "source": [
    "def dist_log1p(prediction):\n",
    "    ba_distribution = pd.DataFrame(data=0, index=np.arange(prediction.size), columns=u_BA)\n",
    "    ba_distribution = ba_distribution.apply(lambda x: stats.norm.cdf(np.log1p(x.name), loc=prediction[x.index], scale=np.std(prediction)), result_type='expand')\n",
    "    return ba_distribution"
   ]
  },
  {
   "cell_type": "code",
   "execution_count": null,
   "metadata": {},
   "outputs": [],
   "source": [
    "from sklearn.pipeline import Pipeline\n",
    "from sklearn.decomposition import PCA\n",
    "from sklearn.model_selection import GridSearchCV\n",
    "from sklearn.ensemble import RandomForestRegressor\n",
    "from sklearn.linear_model import Lasso, LassoCV"
   ]
  },
  {
   "cell_type": "code",
   "execution_count": null,
   "metadata": {},
   "outputs": [],
   "source": [
    "%%time\n",
    "\n",
    "mRF = RandomForestRegressor(max_depth=5, n_estimators=500, n_jobs=8, bootstrap=False, random_state=42)\n",
    "mRF.fit(X_train.drop('CNT', axis=1), np.ravel(np.log1p(y_train)))\n",
    "\n",
    "prediction = mRF.predict(X_test.drop('CNT', axis=1))\n",
    "ba_distribution = dist_log1p(prediction)\n",
    "ba_distribution.to_csv('prediction_ba.csv', index=False)\n",
    "\n",
    "## SCORE=4280"
   ]
  },
  {
   "cell_type": "code",
   "execution_count": null,
   "metadata": {},
   "outputs": [],
   "source": [
    "%%time\n",
    "\n",
    "mLasso = Lasso(alpha=0.1)\n",
    "mLasso.fit(X_train.drop('CNT', axis=1), np.ravel(np.log1p(y_train)))\n",
    "\n",
    "residuals = np.ravel(np.log1p(y_train))-mLasso.predict(X_train.drop('CNT', axis=1))\n",
    "\n",
    "mRERF = RandomForestRegressor(max_depth=5, n_estimators=500, n_jobs=10, bootstrap=False, random_state=42)\n",
    "mRERF.fit(X_train.drop('CNT', axis=1), residuals)\n",
    "\n",
    "prediction = mLasso.predict(X_test.drop('CNT', axis=1)) + mRERF.predict(X_test.drop('CNT', axis=1))\n",
    "ba_distribution = dist_log1p(prediction)\n",
    "ba_distribution.to_csv('prediction_ba.csv', index=False)\n",
    "\n",
    "## SCORE=4345"
   ]
  },
  {
   "cell_type": "code",
   "execution_count": null,
   "metadata": {},
   "outputs": [],
   "source": [
    "param_grid = {'alpha': np.logspace(0,99,num=10)}\n",
    "\n",
    "mLasso = Lasso()\n",
    "\n",
    "clf = GridSearchCV(mLasso, param_grid, n_jobs=5, cv=5)\n",
    "clf.fit(X_train.drop('CNT', axis=1), np.ravel(np.log1p(y_train)))\n",
    "print(clf.best_params_)\n",
    "\n",
    "prediction = clf.predict(X_test.drop('CNT', axis=1))\n",
    "ba_distribution = dist_log1p(prediction)\n",
    "ba_distribution.to_csv('prediction_ba.csv', index=False)"
   ]
  },
  {
   "cell_type": "code",
   "execution_count": null,
   "metadata": {},
   "outputs": [],
   "source": [
    "pca = PCA()\n",
    "rForest = RandomForestRegressor(bootstrap=False, random_state=42)\n",
    "\n",
    "pipe = Pipeline(steps=[('pca', pca), ('rF', rForest)])\n",
    "\n",
    "param_grid = {\n",
    "    'pca__n_components': [5, 10, 15, 30, 40],\n",
    "    'rF__max_depth': [1,5],\n",
    "    'rF__n_estimators': [500,1000]\n",
    "}\n",
    "\n",
    "search = GridSearchCV(pipe, param_grid, n_jobs=8)\n",
    "search.fit(X_train.drop('CNT', axis=1), np.ravel(np.log1p(y_train)))\n",
    "print(\"Best parameter (CV score=%0.3f):\" % search.best_score_)\n",
    "print(search.best_params_)"
   ]
  },
  {
   "cell_type": "code",
   "execution_count": null,
   "metadata": {},
   "outputs": [],
   "source": [
    "search.predict(X_test.drop('CNT', axis=1))"
   ]
  },
  {
   "cell_type": "code",
   "execution_count": null,
   "metadata": {},
   "outputs": [],
   "source": [
    "prediction = search.predict(X_test.drop('CNT', axis=1))\n",
    "ba_distribution = dist_log1p(prediction)\n",
    "ba_distribution.to_csv('prediction_ba.csv', index=False)"
   ]
  }
 ],
 "metadata": {
  "kernelspec": {
   "display_name": "Python 3",
   "language": "python",
   "name": "python3"
  },
  "language_info": {
   "codemirror_mode": {
    "name": "ipython",
    "version": 3
   },
   "file_extension": ".py",
   "mimetype": "text/x-python",
   "name": "python",
   "nbconvert_exporter": "python",
   "pygments_lexer": "ipython3",
   "version": "3.8.5"
  }
 },
 "nbformat": 4,
 "nbformat_minor": 4
}
