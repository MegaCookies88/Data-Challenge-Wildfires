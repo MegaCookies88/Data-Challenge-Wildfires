{
 "cells": [
  {
   "cell_type": "code",
   "execution_count": 1,
   "metadata": {},
   "outputs": [],
   "source": [
    "import pandas as pd\n",
    "import math\n",
    "import numpy as np\n",
    "from scipy import stats\n",
    "\n",
    "import matplotlib.pyplot as plt\n",
    "%matplotlib inline\n",
    "import seaborn as sns\n",
    "sns.set_theme(style='whitegrid')"
   ]
  },
  {
   "cell_type": "code",
   "execution_count": 2,
   "metadata": {},
   "outputs": [
    {
     "data": {
      "text/html": [
       "<div>\n",
       "<style scoped>\n",
       "    .dataframe tbody tr th:only-of-type {\n",
       "        vertical-align: middle;\n",
       "    }\n",
       "\n",
       "    .dataframe tbody tr th {\n",
       "        vertical-align: top;\n",
       "    }\n",
       "\n",
       "    .dataframe thead th {\n",
       "        text-align: right;\n",
       "    }\n",
       "</style>\n",
       "<table border=\"1\" class=\"dataframe\">\n",
       "  <thead>\n",
       "    <tr style=\"text-align: right;\">\n",
       "      <th></th>\n",
       "      <th>CNT</th>\n",
       "      <th>BA</th>\n",
       "      <th>lon</th>\n",
       "      <th>lat</th>\n",
       "      <th>year</th>\n",
       "      <th>month</th>\n",
       "      <th>lc1</th>\n",
       "      <th>lc2</th>\n",
       "      <th>lc3</th>\n",
       "      <th>lc4</th>\n",
       "      <th>...</th>\n",
       "      <th>clim3</th>\n",
       "      <th>clim4</th>\n",
       "      <th>clim5</th>\n",
       "      <th>clim6</th>\n",
       "      <th>clim7</th>\n",
       "      <th>clim8</th>\n",
       "      <th>clim9</th>\n",
       "      <th>clim10</th>\n",
       "      <th>wind</th>\n",
       "      <th>RH</th>\n",
       "    </tr>\n",
       "  </thead>\n",
       "  <tbody>\n",
       "    <tr>\n",
       "      <th>0</th>\n",
       "      <td>0.0</td>\n",
       "      <td>0.0</td>\n",
       "      <td>-95.25</td>\n",
       "      <td>49.25</td>\n",
       "      <td>1993</td>\n",
       "      <td>3</td>\n",
       "      <td>0.000006</td>\n",
       "      <td>0.015857</td>\n",
       "      <td>0.000023</td>\n",
       "      <td>0.001299</td>\n",
       "      <td>...</td>\n",
       "      <td>265.457680</td>\n",
       "      <td>268.867126</td>\n",
       "      <td>-0.005898</td>\n",
       "      <td>9.187450e+06</td>\n",
       "      <td>-5231370.5</td>\n",
       "      <td>97849.906250</td>\n",
       "      <td>-0.000340</td>\n",
       "      <td>0.000448</td>\n",
       "      <td>0.277765</td>\n",
       "      <td>76.304978</td>\n",
       "    </tr>\n",
       "    <tr>\n",
       "      <th>1</th>\n",
       "      <td>0.0</td>\n",
       "      <td>0.0</td>\n",
       "      <td>-94.75</td>\n",
       "      <td>49.25</td>\n",
       "      <td>1993</td>\n",
       "      <td>3</td>\n",
       "      <td>0.000005</td>\n",
       "      <td>0.002749</td>\n",
       "      <td>0.000002</td>\n",
       "      <td>0.000234</td>\n",
       "      <td>...</td>\n",
       "      <td>265.521764</td>\n",
       "      <td>268.412354</td>\n",
       "      <td>-0.001131</td>\n",
       "      <td>6.993830e+06</td>\n",
       "      <td>-4851900.0</td>\n",
       "      <td>97954.703125</td>\n",
       "      <td>-0.000264</td>\n",
       "      <td>0.000462</td>\n",
       "      <td>0.232549</td>\n",
       "      <td>79.479839</td>\n",
       "    </tr>\n",
       "    <tr>\n",
       "      <th>2</th>\n",
       "      <td>0.0</td>\n",
       "      <td>0.0</td>\n",
       "      <td>-122.75</td>\n",
       "      <td>48.75</td>\n",
       "      <td>1993</td>\n",
       "      <td>3</td>\n",
       "      <td>0.002420</td>\n",
       "      <td>0.103964</td>\n",
       "      <td>0.003870</td>\n",
       "      <td>0.027099</td>\n",
       "      <td>...</td>\n",
       "      <td>276.699820</td>\n",
       "      <td>280.594666</td>\n",
       "      <td>-0.010519</td>\n",
       "      <td>1.052566e+07</td>\n",
       "      <td>-4860741.0</td>\n",
       "      <td>100808.468750</td>\n",
       "      <td>-0.001945</td>\n",
       "      <td>0.004545</td>\n",
       "      <td>1.281072</td>\n",
       "      <td>75.576717</td>\n",
       "    </tr>\n",
       "    <tr>\n",
       "      <th>3</th>\n",
       "      <td>3.0</td>\n",
       "      <td>8.0</td>\n",
       "      <td>-122.25</td>\n",
       "      <td>48.75</td>\n",
       "      <td>1993</td>\n",
       "      <td>3</td>\n",
       "      <td>0.002988</td>\n",
       "      <td>0.237442</td>\n",
       "      <td>0.004040</td>\n",
       "      <td>0.047382</td>\n",
       "      <td>...</td>\n",
       "      <td>274.943327</td>\n",
       "      <td>278.574371</td>\n",
       "      <td>-0.008420</td>\n",
       "      <td>9.359787e+06</td>\n",
       "      <td>-4653411.5</td>\n",
       "      <td>98474.648438</td>\n",
       "      <td>-0.001256</td>\n",
       "      <td>0.006174</td>\n",
       "      <td>0.963919</td>\n",
       "      <td>76.703795</td>\n",
       "    </tr>\n",
       "  </tbody>\n",
       "</table>\n",
       "<p>4 rows × 36 columns</p>\n",
       "</div>"
      ],
      "text/plain": [
       "   CNT   BA     lon    lat  year month       lc1       lc2       lc3  \\\n",
       "0  0.0  0.0  -95.25  49.25  1993     3  0.000006  0.015857  0.000023   \n",
       "1  0.0  0.0  -94.75  49.25  1993     3  0.000005  0.002749  0.000002   \n",
       "2  0.0  0.0 -122.75  48.75  1993     3  0.002420  0.103964  0.003870   \n",
       "3  3.0  8.0 -122.25  48.75  1993     3  0.002988  0.237442  0.004040   \n",
       "\n",
       "        lc4  ...       clim3       clim4     clim5         clim6      clim7  \\\n",
       "0  0.001299  ...  265.457680  268.867126 -0.005898  9.187450e+06 -5231370.5   \n",
       "1  0.000234  ...  265.521764  268.412354 -0.001131  6.993830e+06 -4851900.0   \n",
       "2  0.027099  ...  276.699820  280.594666 -0.010519  1.052566e+07 -4860741.0   \n",
       "3  0.047382  ...  274.943327  278.574371 -0.008420  9.359787e+06 -4653411.5   \n",
       "\n",
       "           clim8     clim9    clim10      wind         RH  \n",
       "0   97849.906250 -0.000340  0.000448  0.277765  76.304978  \n",
       "1   97954.703125 -0.000264  0.000462  0.232549  79.479839  \n",
       "2  100808.468750 -0.001945  0.004545  1.281072  75.576717  \n",
       "3   98474.648438 -0.001256  0.006174  0.963919  76.703795  \n",
       "\n",
       "[4 rows x 36 columns]"
      ]
     },
     "execution_count": 2,
     "metadata": {},
     "output_type": "execute_result"
    }
   ],
   "source": [
    "data = pd.read_csv('data/data_train_DF.csv')\n",
    "data.drop('Unnamed: 0', axis=1, inplace=True)\n",
    "\n",
    "# Replacing clim1 and clim2 by wind\n",
    "data['wind'] = np.sqrt(data.clim1**2+data.clim2**2)\n",
    "data.drop(['clim1','clim2'], axis=1, inplace=True)\n",
    "\n",
    "# Relative humidity\n",
    "data['RH'] = 100 * np.exp(17.625*(data.clim3-273.15)/(data.clim3-39.11)) / np.exp(17.625*(data.clim4-273.15)/(data.clim4-39.11))\n",
    "\n",
    "# Changin month to factor and dropping area\n",
    "data.drop('area', axis=1, inplace=True)\n",
    "data['month'] = data['month'].astype('category')\n",
    "\n",
    "# Dropping NA in new dataframe\n",
    "data_validation = data[data.BA.isna() | data.CNT.isna()]\n",
    "data.dropna(inplace=True)\n",
    "    \n",
    "data.head(4)"
   ]
  },
  {
   "cell_type": "code",
   "execution_count": 3,
   "metadata": {},
   "outputs": [],
   "source": [
    "# List of labels by type\n",
    "clim_labels = ['altiMean', 'altiSD', 'clim3', 'clim4', 'clim5', 'clim6', 'clim7', 'clim8','clim9', 'clim10', 'wind', 'RH']\n",
    "land_labels = ['lc1','lc2','lc3','lc4','lc5','lc6','lc7','lc8','lc9','lc10','lc11','lc12','lc13','lc14','lc15','lc16','lc17','lc18']"
   ]
  },
  {
   "cell_type": "code",
   "execution_count": 4,
   "metadata": {},
   "outputs": [],
   "source": [
    "from sklearn.preprocessing import StandardScaler\n",
    "\n",
    "# Splitting data to train/test\n",
    "X_train = data[data.year.isin([1995,2005,2015])].drop('BA', axis=1)\n",
    "y_train = data[data.year.isin([1995,2005,2015])][['BA']]\n",
    "X_test  = data[data.year.isin([1997,2007])].drop('BA', axis=1)\n",
    "y_test  = data[data.year.isin([1997,2007])][['BA']]\n",
    "\n",
    "# Standardizing climate variables\n",
    "scaler = StandardScaler()\n",
    "X_train[clim_labels] = scaler.fit_transform(X_train[clim_labels])\n",
    "X_test[clim_labels] = scaler.fit_transform(X_test[clim_labels])"
   ]
  },
  {
   "cell_type": "code",
   "execution_count": 5,
   "metadata": {},
   "outputs": [],
   "source": [
    "# Adding mean CNT per voxel\n",
    "mean_CNT_voxel = X_train.groupby(['lon','lat'])[['CNT']].mean()\n",
    "X_train['mean_fire'] = X_train.apply(lambda x: mean_CNT_voxel.loc[x.lon,x.lat], axis=1)\n",
    "X_test['mean_fire'] = X_test.apply(lambda x: mean_CNT_voxel.loc[x.lon,x.lat], axis=1)"
   ]
  },
  {
   "cell_type": "code",
   "execution_count": 6,
   "metadata": {},
   "outputs": [
    {
     "data": {
      "text/html": [
       "<div>\n",
       "<style scoped>\n",
       "    .dataframe tbody tr th:only-of-type {\n",
       "        vertical-align: middle;\n",
       "    }\n",
       "\n",
       "    .dataframe tbody tr th {\n",
       "        vertical-align: top;\n",
       "    }\n",
       "\n",
       "    .dataframe thead th {\n",
       "        text-align: right;\n",
       "    }\n",
       "</style>\n",
       "<table border=\"1\" class=\"dataframe\">\n",
       "  <thead>\n",
       "    <tr style=\"text-align: right;\">\n",
       "      <th></th>\n",
       "      <th>CNT</th>\n",
       "      <th>lon</th>\n",
       "      <th>lat</th>\n",
       "      <th>year</th>\n",
       "      <th>month</th>\n",
       "      <th>lc1</th>\n",
       "      <th>lc2</th>\n",
       "      <th>lc3</th>\n",
       "      <th>lc4</th>\n",
       "      <th>lc5</th>\n",
       "      <th>...</th>\n",
       "      <th>clim4</th>\n",
       "      <th>clim5</th>\n",
       "      <th>clim6</th>\n",
       "      <th>clim7</th>\n",
       "      <th>clim8</th>\n",
       "      <th>clim9</th>\n",
       "      <th>clim10</th>\n",
       "      <th>wind</th>\n",
       "      <th>RH</th>\n",
       "      <th>mean_fire</th>\n",
       "    </tr>\n",
       "  </thead>\n",
       "  <tbody>\n",
       "    <tr>\n",
       "      <th>49042</th>\n",
       "      <td>0.0</td>\n",
       "      <td>-95.25</td>\n",
       "      <td>49.25</td>\n",
       "      <td>1995</td>\n",
       "      <td>3</td>\n",
       "      <td>0.000006</td>\n",
       "      <td>0.016773</td>\n",
       "      <td>0.000025</td>\n",
       "      <td>0.001339</td>\n",
       "      <td>0.030603</td>\n",
       "      <td>...</td>\n",
       "      <td>-2.519617</td>\n",
       "      <td>0.681688</td>\n",
       "      <td>-2.509346</td>\n",
       "      <td>1.130469</td>\n",
       "      <td>0.637303</td>\n",
       "      <td>1.605676</td>\n",
       "      <td>-0.873895</td>\n",
       "      <td>-0.486991</td>\n",
       "      <td>0.900351</td>\n",
       "      <td>0.000000</td>\n",
       "    </tr>\n",
       "    <tr>\n",
       "      <th>49043</th>\n",
       "      <td>0.0</td>\n",
       "      <td>-94.75</td>\n",
       "      <td>49.25</td>\n",
       "      <td>1995</td>\n",
       "      <td>3</td>\n",
       "      <td>0.000005</td>\n",
       "      <td>0.002813</td>\n",
       "      <td>0.000002</td>\n",
       "      <td>0.000241</td>\n",
       "      <td>0.006006</td>\n",
       "      <td>...</td>\n",
       "      <td>-2.588345</td>\n",
       "      <td>1.493726</td>\n",
       "      <td>-3.020316</td>\n",
       "      <td>1.286596</td>\n",
       "      <td>0.652743</td>\n",
       "      <td>1.692425</td>\n",
       "      <td>-0.901202</td>\n",
       "      <td>-0.194048</td>\n",
       "      <td>1.188057</td>\n",
       "      <td>0.000000</td>\n",
       "    </tr>\n",
       "    <tr>\n",
       "      <th>49044</th>\n",
       "      <td>0.0</td>\n",
       "      <td>-122.75</td>\n",
       "      <td>48.75</td>\n",
       "      <td>1995</td>\n",
       "      <td>3</td>\n",
       "      <td>0.002336</td>\n",
       "      <td>0.103455</td>\n",
       "      <td>0.003785</td>\n",
       "      <td>0.027096</td>\n",
       "      <td>0.017803</td>\n",
       "      <td>...</td>\n",
       "      <td>-1.261020</td>\n",
       "      <td>-0.049669</td>\n",
       "      <td>-1.776900</td>\n",
       "      <td>0.565023</td>\n",
       "      <td>0.960175</td>\n",
       "      <td>0.010878</td>\n",
       "      <td>1.129725</td>\n",
       "      <td>0.761036</td>\n",
       "      <td>0.922191</td>\n",
       "      <td>0.714286</td>\n",
       "    </tr>\n",
       "    <tr>\n",
       "      <th>49045</th>\n",
       "      <td>4.0</td>\n",
       "      <td>-122.25</td>\n",
       "      <td>48.75</td>\n",
       "      <td>1995</td>\n",
       "      <td>3</td>\n",
       "      <td>0.002988</td>\n",
       "      <td>0.236517</td>\n",
       "      <td>0.004040</td>\n",
       "      <td>0.047353</td>\n",
       "      <td>0.035957</td>\n",
       "      <td>...</td>\n",
       "      <td>-1.504713</td>\n",
       "      <td>0.414177</td>\n",
       "      <td>-2.118623</td>\n",
       "      <td>0.681306</td>\n",
       "      <td>0.648842</td>\n",
       "      <td>0.752724</td>\n",
       "      <td>2.053845</td>\n",
       "      <td>0.000715</td>\n",
       "      <td>1.111186</td>\n",
       "      <td>2.047619</td>\n",
       "    </tr>\n",
       "  </tbody>\n",
       "</table>\n",
       "<p>4 rows × 36 columns</p>\n",
       "</div>"
      ],
      "text/plain": [
       "       CNT     lon    lat  year month       lc1       lc2       lc3       lc4  \\\n",
       "49042  0.0  -95.25  49.25  1995     3  0.000006  0.016773  0.000025  0.001339   \n",
       "49043  0.0  -94.75  49.25  1995     3  0.000005  0.002813  0.000002  0.000241   \n",
       "49044  0.0 -122.75  48.75  1995     3  0.002336  0.103455  0.003785  0.027096   \n",
       "49045  4.0 -122.25  48.75  1995     3  0.002988  0.236517  0.004040  0.047353   \n",
       "\n",
       "            lc5  ...     clim4     clim5     clim6     clim7     clim8  \\\n",
       "49042  0.030603  ... -2.519617  0.681688 -2.509346  1.130469  0.637303   \n",
       "49043  0.006006  ... -2.588345  1.493726 -3.020316  1.286596  0.652743   \n",
       "49044  0.017803  ... -1.261020 -0.049669 -1.776900  0.565023  0.960175   \n",
       "49045  0.035957  ... -1.504713  0.414177 -2.118623  0.681306  0.648842   \n",
       "\n",
       "          clim9    clim10      wind        RH  mean_fire  \n",
       "49042  1.605676 -0.873895 -0.486991  0.900351   0.000000  \n",
       "49043  1.692425 -0.901202 -0.194048  1.188057   0.000000  \n",
       "49044  0.010878  1.129725  0.761036  0.922191   0.714286  \n",
       "49045  0.752724  2.053845  0.000715  1.111186   2.047619  \n",
       "\n",
       "[4 rows x 36 columns]"
      ]
     },
     "execution_count": 6,
     "metadata": {},
     "output_type": "execute_result"
    }
   ],
   "source": [
    "X_train.head(4)"
   ]
  },
  {
   "cell_type": "code",
   "execution_count": 7,
   "metadata": {},
   "outputs": [],
   "source": [
    "# Defining Thresholds and Scoring Function\n",
    "u_CNT = list(range(0,11))+[2*x for x in range(6,16)]+[10*x for x in range(4,11)]\n",
    "u_BA  = [0,1]+[10*x for x in range(1,11)]+[50*x for x in range(3,7)]+[400,500,1000,1500,2000,5000]+[10000*x for x in range(1,6)]+[100000]\n",
    "\n",
    "w_CNT = [1-(1+(x+1)**2/1000)**(-1/4) for x in u_CNT] \n",
    "w_CNT = [x/w_CNT[-1] for x in w_CNT] \n",
    "\n",
    "w_BA  = [1-(1+(x+1)/1000)**(-1/4) for x in u_BA]\n",
    "w_BA  = [x/w_BA[-1] for x in w_BA]\n",
    "\n",
    "def cnt_score(y_test, prediction_dist):  \n",
    "    S_CNT  = 0\n",
    "    for i in range(len(actual)):\n",
    "        S_CNT = S_CNT + np.sum([w_CNT[x]*(int(u_CNT[x]>=y_test.iloc[i])-prediction_dist.iloc[i,x])**2 for x in range(len(u_CNT))])\n",
    "    return S_CNT\n",
    "\n",
    "def ba_score(y_test, prediction_dist):  \n",
    "    S_BA  = 0\n",
    "    for i in range(len(y_test)):\n",
    "        S_BA = S_BA + np.sum([w_BA[x]*(int(u_BA[x]>=y_test.iloc[i])-prediction_dist.iloc[i,x])**2 for x in range(len(u_BA))])\n",
    "    return S_BA"
   ]
  },
  {
   "cell_type": "code",
   "execution_count": 8,
   "metadata": {},
   "outputs": [],
   "source": [
    "# New y_train and y_test that represents intervals of BA :\n",
    "\n",
    "# method 1 : replace extremes by max u_BA\n",
    "new_y_train = pd.Categorical(pd.cut(y_train.BA, bins=[-1]+u_BA, right=True, labels=u_BA)).fillna(max(u_BA))\n",
    "new_y_train = pd.DataFrame(new_y_train, columns=['threshold'], index=y_train.index)\n",
    "new_y_test = pd.Categorical(pd.cut(y_test.BA, bins=[-1]+u_BA, right=True, labels=u_BA)).fillna(max(u_BA))\n",
    "new_y_test = pd.DataFrame(new_y_test, columns=['threshold'], index=y_test.index)\n",
    "\n",
    "# method 2 : replace extremes by -1\n",
    "new2_y_train = pd.Categorical(pd.cut(y_train.BA, bins=[-1]+u_BA, right=True, labels=u_BA)).add_categories(-1).fillna(-1)\n",
    "new2_y_train = pd.DataFrame(new2_y_train, columns=['threshold'], index=y_train.index)\n",
    "new2_y_test = pd.Categorical(pd.cut(y_test.BA, bins=[-1]+u_BA, right=True, labels=u_BA)).add_categories(-1).fillna(-1)\n",
    "new2_y_test = pd.DataFrame(new2_y_test, columns=['threshold'], index=y_test.index)"
   ]
  },
  {
   "cell_type": "code",
   "execution_count": 9,
   "metadata": {},
   "outputs": [],
   "source": [
    "# Appoximation of the prediction distribution - log1p\n",
    "def dist_log1p(prediction):\n",
    "    ba_distribution = pd.DataFrame(data=0, index=np.arange(prediction.size), columns=u_BA)\n",
    "    ba_distribution = ba_distribution.apply(lambda x: stats.norm.cdf(np.log1p(x.name), loc=prediction[x.index], scale=np.std(prediction)), result_type='expand')\n",
    "    return ba_distribution\n",
    "\n",
    "def dist_log(prediction):\n",
    "    ba_distribution = pd.DataFrame(data=0, index=np.arange(prediction.size), columns=u_BA[1:])\n",
    "    ba_distribution = ba_distribution.apply(lambda x: stats.norm.pdf(np.log(x.name), loc=prediction[x.index], scale=np.std(prediction)), result_type='expand')\n",
    "    return ba_distribution"
   ]
  },
  {
   "cell_type": "markdown",
   "metadata": {},
   "source": [
    "# Models\n",
    "Trying some regression and classification models"
   ]
  },
  {
   "cell_type": "code",
   "execution_count": 10,
   "metadata": {},
   "outputs": [],
   "source": [
    "from sklearn.pipeline import Pipeline\n",
    "from sklearn.decomposition import PCA\n",
    "from sklearn.model_selection import GridSearchCV\n",
    "from sklearn.ensemble import RandomForestRegressor, RandomForestClassifier\n",
    "from sklearn.neural_network import MLPClassifier\n",
    "from sklearn.metrics import confusion_matrix, accuracy_score, balanced_accuracy_score\n",
    "import sklearn.linear_model as lm"
   ]
  },
  {
   "cell_type": "markdown",
   "metadata": {},
   "source": [
    "### Random Forest Regression"
   ]
  },
  {
   "cell_type": "code",
   "execution_count": 11,
   "metadata": {},
   "outputs": [
    {
     "name": "stdout",
     "output_type": "stream",
     "text": [
      "CPU times: user 5min 27s, sys: 338 ms, total: 5min 27s\n",
      "Wall time: 42.9 s\n"
     ]
    }
   ],
   "source": [
    "%%time\n",
    "\n",
    "mRF = RandomForestRegressor(max_depth=5, n_estimators=500, n_jobs=8, bootstrap=False, random_state=42)\n",
    "mRF.fit(X_train.drop('CNT', axis=1), np.log1p(y_train.BA))\n",
    "\n",
    "prediction = mRF.predict(X_test.drop('CNT', axis=1))\n",
    "ba_distribution = dist_log1p(prediction)\n",
    "ba_distribution.to_csv('prediction_ba.csv', index=False)\n",
    "\n",
    "## SCORE=4280"
   ]
  },
  {
   "cell_type": "markdown",
   "metadata": {},
   "source": [
    "### Lasso Enhanced Random Forest Regression"
   ]
  },
  {
   "cell_type": "code",
   "execution_count": 12,
   "metadata": {},
   "outputs": [
    {
     "name": "stdout",
     "output_type": "stream",
     "text": [
      "CPU times: user 6min 43s, sys: 424 ms, total: 6min 44s\n",
      "Wall time: 42.1 s\n"
     ]
    }
   ],
   "source": [
    "%%time\n",
    "\n",
    "mLasso = lm.Lasso(alpha=0.1)\n",
    "mLasso.fit(X_train.drop('CNT', axis=1), np.ravel(np.log1p(y_train)))\n",
    "\n",
    "residuals = np.ravel(np.log1p(y_train))-mLasso.predict(X_train.drop('CNT', axis=1))\n",
    "\n",
    "mRERF = RandomForestRegressor(max_depth=5, n_estimators=500, n_jobs=10, bootstrap=False, random_state=42)\n",
    "mRERF.fit(X_train.drop('CNT', axis=1), residuals)\n",
    "\n",
    "prediction = mLasso.predict(X_test.drop('CNT', axis=1)) + mRERF.predict(X_test.drop('CNT', axis=1))\n",
    "ba_distribution = dist_log1p(prediction)\n",
    "ba_distribution.to_csv('prediction_ba.csv', index=False)\n",
    "\n",
    "## SCORE=4345"
   ]
  },
  {
   "cell_type": "markdown",
   "metadata": {},
   "source": [
    "### Random Forest Classifier - with/without CNT"
   ]
  },
  {
   "cell_type": "code",
   "execution_count": 13,
   "metadata": {},
   "outputs": [
    {
     "name": "stdout",
     "output_type": "stream",
     "text": [
      "CPU times: user 15min 34s, sys: 1.91 s, total: 15min 36s\n",
      "Wall time: 2min\n"
     ]
    }
   ],
   "source": [
    "%%time\n",
    "\n",
    "mRFC0 = RandomForestClassifier(max_depth=5, n_estimators=1000, n_jobs=8, bootstrap=False, max_features=None, random_state=42)\n",
    "mRFC0.fit(X_train.drop('CNT', axis=1), new_y_train.threshold)\n",
    "\n",
    "ba_distribution = pd.DataFrame(mRFC0.predict_proba(X_test.drop('CNT', axis=1)), columns=u_BA).cumsum(axis=1)\n",
    "ba_distribution.to_csv('prediction_ba.csv', index=False)\n",
    "\n",
    "## SCORE=4079"
   ]
  },
  {
   "cell_type": "code",
   "execution_count": 14,
   "metadata": {},
   "outputs": [
    {
     "name": "stdout",
     "output_type": "stream",
     "text": [
      "CPU times: user 9min 13s, sys: 916 ms, total: 9min 14s\n",
      "Wall time: 1min 12s\n"
     ]
    }
   ],
   "source": [
    "%%time\n",
    "\n",
    "mRFC1 = RandomForestClassifier(max_depth=5, n_estimators=1000, n_jobs=8, bootstrap=False, max_features=None, random_state=42)\n",
    "mRFC1.fit(X_train, new_y_train.threshold)\n",
    "\n",
    "ba_distribution = pd.DataFrame(mRFC1.predict_proba(X_test), columns=u_BA).cumsum(axis=1)\n",
    "ba_distribution.to_csv('prediction_ba.csv', index=False)\n",
    "\n",
    "## SCORE=3720"
   ]
  },
  {
   "cell_type": "code",
   "execution_count": 15,
   "metadata": {},
   "outputs": [
    {
     "data": {
      "text/html": [
       "<div>\n",
       "<style scoped>\n",
       "    .dataframe tbody tr th:only-of-type {\n",
       "        vertical-align: middle;\n",
       "    }\n",
       "\n",
       "    .dataframe tbody tr th {\n",
       "        vertical-align: top;\n",
       "    }\n",
       "\n",
       "    .dataframe thead th {\n",
       "        text-align: right;\n",
       "    }\n",
       "</style>\n",
       "<table border=\"1\" class=\"dataframe\">\n",
       "  <thead>\n",
       "    <tr style=\"text-align: right;\">\n",
       "      <th></th>\n",
       "      <th>0</th>\n",
       "      <th>1</th>\n",
       "      <th>10</th>\n",
       "      <th>20</th>\n",
       "      <th>30</th>\n",
       "      <th>40</th>\n",
       "      <th>50</th>\n",
       "      <th>60</th>\n",
       "      <th>70</th>\n",
       "      <th>80</th>\n",
       "      <th>...</th>\n",
       "      <th>1000</th>\n",
       "      <th>1500</th>\n",
       "      <th>2000</th>\n",
       "      <th>5000</th>\n",
       "      <th>10000</th>\n",
       "      <th>20000</th>\n",
       "      <th>30000</th>\n",
       "      <th>40000</th>\n",
       "      <th>50000</th>\n",
       "      <th>100000</th>\n",
       "    </tr>\n",
       "  </thead>\n",
       "  <tbody>\n",
       "    <tr>\n",
       "      <th>0</th>\n",
       "      <td>1.0</td>\n",
       "      <td>1.000000</td>\n",
       "      <td>1.000000</td>\n",
       "      <td>1.00000</td>\n",
       "      <td>1.000000</td>\n",
       "      <td>1.000000</td>\n",
       "      <td>1.000000</td>\n",
       "      <td>1.000000</td>\n",
       "      <td>1.000000</td>\n",
       "      <td>1.000000</td>\n",
       "      <td>...</td>\n",
       "      <td>1.000000</td>\n",
       "      <td>1.000000</td>\n",
       "      <td>1.000000</td>\n",
       "      <td>1.000000</td>\n",
       "      <td>1.000000</td>\n",
       "      <td>1.0</td>\n",
       "      <td>1.0</td>\n",
       "      <td>1.0</td>\n",
       "      <td>1.0</td>\n",
       "      <td>1.0</td>\n",
       "    </tr>\n",
       "    <tr>\n",
       "      <th>1</th>\n",
       "      <td>1.0</td>\n",
       "      <td>1.000000</td>\n",
       "      <td>1.000000</td>\n",
       "      <td>1.00000</td>\n",
       "      <td>1.000000</td>\n",
       "      <td>1.000000</td>\n",
       "      <td>1.000000</td>\n",
       "      <td>1.000000</td>\n",
       "      <td>1.000000</td>\n",
       "      <td>1.000000</td>\n",
       "      <td>...</td>\n",
       "      <td>1.000000</td>\n",
       "      <td>1.000000</td>\n",
       "      <td>1.000000</td>\n",
       "      <td>1.000000</td>\n",
       "      <td>1.000000</td>\n",
       "      <td>1.0</td>\n",
       "      <td>1.0</td>\n",
       "      <td>1.0</td>\n",
       "      <td>1.0</td>\n",
       "      <td>1.0</td>\n",
       "    </tr>\n",
       "    <tr>\n",
       "      <th>2</th>\n",
       "      <td>1.0</td>\n",
       "      <td>1.000000</td>\n",
       "      <td>1.000000</td>\n",
       "      <td>1.00000</td>\n",
       "      <td>1.000000</td>\n",
       "      <td>1.000000</td>\n",
       "      <td>1.000000</td>\n",
       "      <td>1.000000</td>\n",
       "      <td>1.000000</td>\n",
       "      <td>1.000000</td>\n",
       "      <td>...</td>\n",
       "      <td>1.000000</td>\n",
       "      <td>1.000000</td>\n",
       "      <td>1.000000</td>\n",
       "      <td>1.000000</td>\n",
       "      <td>1.000000</td>\n",
       "      <td>1.0</td>\n",
       "      <td>1.0</td>\n",
       "      <td>1.0</td>\n",
       "      <td>1.0</td>\n",
       "      <td>1.0</td>\n",
       "    </tr>\n",
       "    <tr>\n",
       "      <th>3</th>\n",
       "      <td>1.0</td>\n",
       "      <td>1.000000</td>\n",
       "      <td>1.000000</td>\n",
       "      <td>1.00000</td>\n",
       "      <td>1.000000</td>\n",
       "      <td>1.000000</td>\n",
       "      <td>1.000000</td>\n",
       "      <td>1.000000</td>\n",
       "      <td>1.000000</td>\n",
       "      <td>1.000000</td>\n",
       "      <td>...</td>\n",
       "      <td>1.000000</td>\n",
       "      <td>1.000000</td>\n",
       "      <td>1.000000</td>\n",
       "      <td>1.000000</td>\n",
       "      <td>1.000000</td>\n",
       "      <td>1.0</td>\n",
       "      <td>1.0</td>\n",
       "      <td>1.0</td>\n",
       "      <td>1.0</td>\n",
       "      <td>1.0</td>\n",
       "    </tr>\n",
       "    <tr>\n",
       "      <th>4</th>\n",
       "      <td>1.0</td>\n",
       "      <td>1.000000</td>\n",
       "      <td>1.000000</td>\n",
       "      <td>1.00000</td>\n",
       "      <td>1.000000</td>\n",
       "      <td>1.000000</td>\n",
       "      <td>1.000000</td>\n",
       "      <td>1.000000</td>\n",
       "      <td>1.000000</td>\n",
       "      <td>1.000000</td>\n",
       "      <td>...</td>\n",
       "      <td>1.000000</td>\n",
       "      <td>1.000000</td>\n",
       "      <td>1.000000</td>\n",
       "      <td>1.000000</td>\n",
       "      <td>1.000000</td>\n",
       "      <td>1.0</td>\n",
       "      <td>1.0</td>\n",
       "      <td>1.0</td>\n",
       "      <td>1.0</td>\n",
       "      <td>1.0</td>\n",
       "    </tr>\n",
       "    <tr>\n",
       "      <th>...</th>\n",
       "      <td>...</td>\n",
       "      <td>...</td>\n",
       "      <td>...</td>\n",
       "      <td>...</td>\n",
       "      <td>...</td>\n",
       "      <td>...</td>\n",
       "      <td>...</td>\n",
       "      <td>...</td>\n",
       "      <td>...</td>\n",
       "      <td>...</td>\n",
       "      <td>...</td>\n",
       "      <td>...</td>\n",
       "      <td>...</td>\n",
       "      <td>...</td>\n",
       "      <td>...</td>\n",
       "      <td>...</td>\n",
       "      <td>...</td>\n",
       "      <td>...</td>\n",
       "      <td>...</td>\n",
       "      <td>...</td>\n",
       "      <td>...</td>\n",
       "    </tr>\n",
       "    <tr>\n",
       "      <th>49037</th>\n",
       "      <td>0.0</td>\n",
       "      <td>0.105109</td>\n",
       "      <td>0.555912</td>\n",
       "      <td>0.70073</td>\n",
       "      <td>0.770803</td>\n",
       "      <td>0.815474</td>\n",
       "      <td>0.848175</td>\n",
       "      <td>0.872117</td>\n",
       "      <td>0.886715</td>\n",
       "      <td>0.899562</td>\n",
       "      <td>...</td>\n",
       "      <td>0.984234</td>\n",
       "      <td>0.988905</td>\n",
       "      <td>0.991533</td>\n",
       "      <td>0.997372</td>\n",
       "      <td>0.999416</td>\n",
       "      <td>1.0</td>\n",
       "      <td>1.0</td>\n",
       "      <td>1.0</td>\n",
       "      <td>1.0</td>\n",
       "      <td>1.0</td>\n",
       "    </tr>\n",
       "    <tr>\n",
       "      <th>49038</th>\n",
       "      <td>0.0</td>\n",
       "      <td>0.105109</td>\n",
       "      <td>0.555912</td>\n",
       "      <td>0.70073</td>\n",
       "      <td>0.770803</td>\n",
       "      <td>0.815474</td>\n",
       "      <td>0.848175</td>\n",
       "      <td>0.872117</td>\n",
       "      <td>0.886715</td>\n",
       "      <td>0.899562</td>\n",
       "      <td>...</td>\n",
       "      <td>0.984234</td>\n",
       "      <td>0.988905</td>\n",
       "      <td>0.991533</td>\n",
       "      <td>0.997372</td>\n",
       "      <td>0.999416</td>\n",
       "      <td>1.0</td>\n",
       "      <td>1.0</td>\n",
       "      <td>1.0</td>\n",
       "      <td>1.0</td>\n",
       "      <td>1.0</td>\n",
       "    </tr>\n",
       "    <tr>\n",
       "      <th>49039</th>\n",
       "      <td>1.0</td>\n",
       "      <td>1.000000</td>\n",
       "      <td>1.000000</td>\n",
       "      <td>1.00000</td>\n",
       "      <td>1.000000</td>\n",
       "      <td>1.000000</td>\n",
       "      <td>1.000000</td>\n",
       "      <td>1.000000</td>\n",
       "      <td>1.000000</td>\n",
       "      <td>1.000000</td>\n",
       "      <td>...</td>\n",
       "      <td>1.000000</td>\n",
       "      <td>1.000000</td>\n",
       "      <td>1.000000</td>\n",
       "      <td>1.000000</td>\n",
       "      <td>1.000000</td>\n",
       "      <td>1.0</td>\n",
       "      <td>1.0</td>\n",
       "      <td>1.0</td>\n",
       "      <td>1.0</td>\n",
       "      <td>1.0</td>\n",
       "    </tr>\n",
       "    <tr>\n",
       "      <th>49040</th>\n",
       "      <td>0.0</td>\n",
       "      <td>0.105109</td>\n",
       "      <td>0.555912</td>\n",
       "      <td>0.70073</td>\n",
       "      <td>0.770803</td>\n",
       "      <td>0.815474</td>\n",
       "      <td>0.848175</td>\n",
       "      <td>0.872117</td>\n",
       "      <td>0.886715</td>\n",
       "      <td>0.899562</td>\n",
       "      <td>...</td>\n",
       "      <td>0.984234</td>\n",
       "      <td>0.988905</td>\n",
       "      <td>0.991533</td>\n",
       "      <td>0.997372</td>\n",
       "      <td>0.999416</td>\n",
       "      <td>1.0</td>\n",
       "      <td>1.0</td>\n",
       "      <td>1.0</td>\n",
       "      <td>1.0</td>\n",
       "      <td>1.0</td>\n",
       "    </tr>\n",
       "    <tr>\n",
       "      <th>49041</th>\n",
       "      <td>1.0</td>\n",
       "      <td>1.000000</td>\n",
       "      <td>1.000000</td>\n",
       "      <td>1.00000</td>\n",
       "      <td>1.000000</td>\n",
       "      <td>1.000000</td>\n",
       "      <td>1.000000</td>\n",
       "      <td>1.000000</td>\n",
       "      <td>1.000000</td>\n",
       "      <td>1.000000</td>\n",
       "      <td>...</td>\n",
       "      <td>1.000000</td>\n",
       "      <td>1.000000</td>\n",
       "      <td>1.000000</td>\n",
       "      <td>1.000000</td>\n",
       "      <td>1.000000</td>\n",
       "      <td>1.0</td>\n",
       "      <td>1.0</td>\n",
       "      <td>1.0</td>\n",
       "      <td>1.0</td>\n",
       "      <td>1.0</td>\n",
       "    </tr>\n",
       "  </tbody>\n",
       "</table>\n",
       "<p>49042 rows × 28 columns</p>\n",
       "</div>"
      ],
      "text/plain": [
       "       0         1         10       20        30        40        50      \\\n",
       "0         1.0  1.000000  1.000000  1.00000  1.000000  1.000000  1.000000   \n",
       "1         1.0  1.000000  1.000000  1.00000  1.000000  1.000000  1.000000   \n",
       "2         1.0  1.000000  1.000000  1.00000  1.000000  1.000000  1.000000   \n",
       "3         1.0  1.000000  1.000000  1.00000  1.000000  1.000000  1.000000   \n",
       "4         1.0  1.000000  1.000000  1.00000  1.000000  1.000000  1.000000   \n",
       "...       ...       ...       ...      ...       ...       ...       ...   \n",
       "49037     0.0  0.105109  0.555912  0.70073  0.770803  0.815474  0.848175   \n",
       "49038     0.0  0.105109  0.555912  0.70073  0.770803  0.815474  0.848175   \n",
       "49039     1.0  1.000000  1.000000  1.00000  1.000000  1.000000  1.000000   \n",
       "49040     0.0  0.105109  0.555912  0.70073  0.770803  0.815474  0.848175   \n",
       "49041     1.0  1.000000  1.000000  1.00000  1.000000  1.000000  1.000000   \n",
       "\n",
       "         60        70        80      ...    1000      1500      2000    \\\n",
       "0      1.000000  1.000000  1.000000  ...  1.000000  1.000000  1.000000   \n",
       "1      1.000000  1.000000  1.000000  ...  1.000000  1.000000  1.000000   \n",
       "2      1.000000  1.000000  1.000000  ...  1.000000  1.000000  1.000000   \n",
       "3      1.000000  1.000000  1.000000  ...  1.000000  1.000000  1.000000   \n",
       "4      1.000000  1.000000  1.000000  ...  1.000000  1.000000  1.000000   \n",
       "...         ...       ...       ...  ...       ...       ...       ...   \n",
       "49037  0.872117  0.886715  0.899562  ...  0.984234  0.988905  0.991533   \n",
       "49038  0.872117  0.886715  0.899562  ...  0.984234  0.988905  0.991533   \n",
       "49039  1.000000  1.000000  1.000000  ...  1.000000  1.000000  1.000000   \n",
       "49040  0.872117  0.886715  0.899562  ...  0.984234  0.988905  0.991533   \n",
       "49041  1.000000  1.000000  1.000000  ...  1.000000  1.000000  1.000000   \n",
       "\n",
       "         5000      10000   20000   30000   40000   50000   100000  \n",
       "0      1.000000  1.000000     1.0     1.0     1.0     1.0     1.0  \n",
       "1      1.000000  1.000000     1.0     1.0     1.0     1.0     1.0  \n",
       "2      1.000000  1.000000     1.0     1.0     1.0     1.0     1.0  \n",
       "3      1.000000  1.000000     1.0     1.0     1.0     1.0     1.0  \n",
       "4      1.000000  1.000000     1.0     1.0     1.0     1.0     1.0  \n",
       "...         ...       ...     ...     ...     ...     ...     ...  \n",
       "49037  0.997372  0.999416     1.0     1.0     1.0     1.0     1.0  \n",
       "49038  0.997372  0.999416     1.0     1.0     1.0     1.0     1.0  \n",
       "49039  1.000000  1.000000     1.0     1.0     1.0     1.0     1.0  \n",
       "49040  0.997372  0.999416     1.0     1.0     1.0     1.0     1.0  \n",
       "49041  1.000000  1.000000     1.0     1.0     1.0     1.0     1.0  \n",
       "\n",
       "[49042 rows x 28 columns]"
      ]
     },
     "execution_count": 15,
     "metadata": {},
     "output_type": "execute_result"
    }
   ],
   "source": [
    "# What the output look like :\n",
    "ba_distribution"
   ]
  },
  {
   "cell_type": "code",
   "execution_count": 16,
   "metadata": {},
   "outputs": [
    {
     "data": {
      "image/png": "[encoded data removed]",
      "text/plain": [
       "<Figure size 1080x576 with 2 Axes>"
      ]
     },
     "metadata": {},
     "output_type": "display_data"
    }
   ],
   "source": [
    "scores = [100*mRFC0.score(X_test[y_test.BA<=lv].drop('CNT', axis=1), new_y_test[y_test.BA<=lv].threshold) for lv in u_BA]\n",
    "\n",
    "fig, ax = plt.subplots(1,2, figsize=(15,8))\n",
    "ax[0].plot(u_BA, scores)\n",
    "ax[1].plot(u_BA[0:15], scores[0:15]);"
   ]
  },
  {
   "cell_type": "markdown",
   "metadata": {},
   "source": [
    "### Multi-layer Perceptron classifier"
   ]
  },
  {
   "cell_type": "code",
   "execution_count": 17,
   "metadata": {},
   "outputs": [
    {
     "name": "stderr",
     "output_type": "stream",
     "text": [
      "/Users/monginouira/opt/anaconda3/lib/python3.8/site-packages/sklearn/neural_network/_multilayer_perceptron.py:614: ConvergenceWarning: Stochastic Optimizer: Maximum iterations (300) reached and the optimization hasn't converged yet.\n",
      "  warnings.warn(\n"
     ]
    },
    {
     "name": "stdout",
     "output_type": "stream",
     "text": [
      "CPU times: user 32min 29s, sys: 6.71 s, total: 32min 35s\n",
      "Wall time: 4min 6s\n"
     ]
    }
   ],
   "source": [
    "%%time\n",
    "\n",
    "clf_MLP0 = MLPClassifier(max_iter=300, activation='relu', alpha=0.0001, learning_rate='adaptive', hidden_layer_sizes=100, random_state=42)\n",
    "clf_MLP0.fit(X_train.drop('CNT', axis=1), new2_y_train.threshold)\n",
    "\n",
    "ba_distribution = pd.DataFrame(clf_MLP0.predict_proba(X_test.drop('CNT', axis=1))[:,1:], columns=u_BA).cumsum(axis=1)\n",
    "ba_distribution.to_csv('prediction_ba.csv', index=False)\n",
    "\n",
    "# SCORE=3856"
   ]
  },
  {
   "cell_type": "code",
   "execution_count": 18,
   "metadata": {},
   "outputs": [
    {
     "data": {
      "image/png": "[encoded data removed]",
      "text/plain": [
       "<Figure size 1080x576 with 2 Axes>"
      ]
     },
     "metadata": {},
     "output_type": "display_data"
    }
   ],
   "source": [
    "scores = [100*clf_MLP0.score(X_test[y_test.BA<=lv].drop('CNT', axis=1), new2_y_test[y_test.BA<=lv].threshold) for lv in u_BA]\n",
    "\n",
    "fig, ax = plt.subplots(1,2, figsize=(15,8))\n",
    "ax[0].plot(u_BA, scores)\n",
    "ax[1].plot(u_BA[0:15], scores[0:15]);"
   ]
  },
  {
   "cell_type": "code",
   "execution_count": 19,
   "metadata": {},
   "outputs": [
    {
     "name": "stdout",
     "output_type": "stream",
     "text": [
      "CPU times: user 14min 35s, sys: 2.58 s, total: 14min 37s\n",
      "Wall time: 1min 51s\n"
     ]
    }
   ],
   "source": [
    "%%time\n",
    "\n",
    "clf_MLP1 = MLPClassifier(max_iter=300, activation='relu', alpha=0.0001, learning_rate='adaptive', hidden_layer_sizes=100, random_state=42)\n",
    "clf_MLP1.fit(X_train, new2_y_train.threshold)\n",
    "\n",
    "ba_distribution = pd.DataFrame(clf_MLP1.predict_proba(X_test)[:,1:], columns=u_BA).cumsum(axis=1)\n",
    "ba_distribution.to_csv('prediction_ba.csv', index=False)\n",
    "\n",
    "# SCORE=3465"
   ]
  },
  {
   "cell_type": "markdown",
   "metadata": {},
   "source": [
    "### Try to ignore extremes > 1500"
   ]
  },
  {
   "cell_type": "code",
   "execution_count": 20,
   "metadata": {},
   "outputs": [
    {
     "data": {
      "image/png": "[encoded data removed]",
      "text/plain": [
       "<Figure size 1080x576 with 1 Axes>"
      ]
     },
     "metadata": {},
     "output_type": "display_data"
    }
   ],
   "source": [
    "fig, ax = plt.subplots(1, figsize=(15,8))\n",
    "sns.barplot(y=new_y_train.threshold.unique(), x=new_y_train.threshold.value_counts());"
   ]
  },
  {
   "cell_type": "code",
   "execution_count": 21,
   "metadata": {},
   "outputs": [
    {
     "name": "stdout",
     "output_type": "stream",
     "text": [
      "CPU times: user 5min 50s, sys: 1.49 s, total: 5min 52s\n",
      "Wall time: 44.1 s\n"
     ]
    },
    {
     "data": {
      "text/plain": [
       "[<matplotlib.lines.Line2D at 0x7f8099c20d30>]"
      ]
     },
     "execution_count": 21,
     "metadata": {},
     "output_type": "execute_result"
    },
    {
     "data": {
      "image/png": "[encoded data removed]",
      "text/plain": [
       "<Figure size 576x576 with 1 Axes>"
      ]
     },
     "metadata": {},
     "output_type": "display_data"
    }
   ],
   "source": [
    "%%time\n",
    "\n",
    "# put -1 for every BA>1500 as an extreme\n",
    "new_y_train = pd.Categorical(pd.cut(y_train.BA, bins=[-1]+u_BA[0:20], right=True, labels=u_BA[0:20])).add_categories(-1).fillna(-1)\n",
    "new_y_train = pd.DataFrame(new_y_train, columns=['threshold'], index=y_train.index)\n",
    "new_y_test = pd.Categorical(pd.cut(y_test.BA, bins=[-1]+u_BA[0:20], right=True, labels=u_BA[0:20])).add_categories(-1).fillna(-1)\n",
    "new_y_test = pd.DataFrame(new_y_test, columns=['threshold'], index=y_test.index)\n",
    "\n",
    "clf = MLPClassifier(random_state=42, max_iter=300, activation='relu', alpha=0.0001, learning_rate='adaptive')\n",
    "clf.fit(X_train.drop('CNT', axis=1), new_y_train.threshold)\n",
    "\n",
    "scores = [100*clf.score(X_test[y_test.BA<=lv].drop('CNT', axis=1), \n",
    "                        new_y_test[y_test.BA<=lv].threshold) for lv in u_BA[0:20]]\n",
    "\n",
    "plt.figure(figsize=(8,8))\n",
    "plt.plot(u_BA[0:20], scores);"
   ]
  },
  {
   "cell_type": "markdown",
   "metadata": {},
   "source": [
    "## SMOTE : Classification Balance\n",
    "MLP don't have a balance option so we use SMOTE to oversample the training set such that we classes are perfectly balanced"
   ]
  },
  {
   "cell_type": "code",
   "execution_count": null,
   "metadata": {},
   "outputs": [],
   "source": [
    "from imblearn.over_sampling import SMOTE\n",
    "\n",
    "sm = SMOTE(random_state=42)\n",
    "\n",
    "X_sm, y_sm = sm.fit_resample(X_train[new_y_train.threshold!=-1], new_y_train[new_y_train.threshold!=-1].threshold.cat.remove_categories(-1))\n",
    "\n",
    "print(f'''Shape of X before SMOTE: {X_train.shape}\n",
    "Shape of X after SMOTE: {X_sm.shape}''')\n",
    "\n",
    "print('\\nBalance of positive and negative classes (%):')\n",
    "y_sm.value_counts(normalize=True) * 100"
   ]
  },
  {
   "cell_type": "code",
   "execution_count": null,
   "metadata": {},
   "outputs": [],
   "source": [
    "# select random 80k for now wuth class balance preserved\n",
    "ind_sm = X_sm.sample(frac=0.2, random_state=42).index\n",
    "print(len(ind_sm))\n",
    "y_sm.loc[ind_sm].value_counts(normalize=True) * 100"
   ]
  },
  {
   "cell_type": "code",
   "execution_count": null,
   "metadata": {},
   "outputs": [],
   "source": [
    "%%time\n",
    "\n",
    "clf = MLPClassifier(max_iter=300, activation='relu', alpha=0.0001, learning_rate='adaptive', hidden_layer_sizes=100, random_state=42)\n",
    "clf.fit(X_sm.loc[ind_sm].drop('CNT', axis=1), y_sm.loc[ind_sm])\n",
    "\n",
    "ba_distribution = pd.DataFrame(clf.predict_proba(X_test.drop('CNT', axis=1)), columns=y_sm.unique().categories).cumsum(axis=1)\n",
    "ba_distribution.to_csv('prediction_ba.csv', index=False)\n",
    "\n",
    "# SCORE="
   ]
  },
  {
   "cell_type": "code",
   "execution_count": null,
   "metadata": {},
   "outputs": [],
   "source": [
    "scores = [100*clf.score(X_test[y_test.BA<=lv].drop('CNT', axis=1), new_y_test[y_test.BA<=lv].threshold) for lv in u_BA]\n",
    "\n",
    "fig, ax = plt.subplots(1,2, figsize=(15,8))\n",
    "ax[0].plot(u_BA, scores)\n",
    "ax[1].plot(u_BA[0:15], scores[0:15]);"
   ]
  },
  {
   "cell_type": "markdown",
   "metadata": {},
   "source": [
    "# Model Idea 1\n",
    "1. classify BA is 0 or not\n",
    "2. classify BA>0 using MLP and SMOTE"
   ]
  },
  {
   "cell_type": "markdown",
   "metadata": {},
   "source": [
    "#### Step 1 : probability BA=0 (True) and BA>0 (False)"
   ]
  },
  {
   "cell_type": "code",
   "execution_count": null,
   "metadata": {},
   "outputs": [],
   "source": [
    "%%time\n",
    "\n",
    "#sm = SMOTE(random_state=42)\n",
    "#X_sm, y_sm = sm.fit_resample(X_train, y_train==0)\n",
    "#clf0 = MLPClassifier(max_iter=300, activation='relu', alpha=0.0001, learning_rate='adaptive', hidden_layer_sizes=100, random_state=42)\n",
    "\n",
    "clf0 = RandomForestClassifier(max_depth=6, n_estimators=500, n_jobs=8, bootstrap=False, max_features=None, class_weight='balanced', random_state=42)\n",
    "pipe0 = Pipeline([('pca', PCA(n_components=None, random_state=42)), ('clf', clf0)])\n",
    "\n",
    "clf0.fit(X_train.drop(['CNT','year'], axis=1), y_train.BA==0)"
   ]
  },
  {
   "cell_type": "code",
   "execution_count": null,
   "metadata": {},
   "outputs": [],
   "source": [
    "plt.figure(figsize=(8,6))\n",
    "sns.heatmap(confusion_matrix(y_test.BA==0, clf0.predict(X_test.drop(['CNT','year'], axis=1)), normalize='true'), annot=True, cmap='Blues');"
   ]
  },
  {
   "cell_type": "code",
   "execution_count": null,
   "metadata": {},
   "outputs": [],
   "source": [
    "p0 = pd.DataFrame(clf0.predict_proba(X_test.drop(['CNT','year'], axis=1))[:,1])\n",
    "p0.T"
   ]
  },
  {
   "cell_type": "markdown",
   "metadata": {},
   "source": [
    "#### Step 2 : classify BA>0"
   ]
  },
  {
   "cell_type": "code",
   "execution_count": null,
   "metadata": {},
   "outputs": [],
   "source": [
    "fig, ax = plt.subplots(1, figsize=(15,8))\n",
    "sns.barplot(y=new_y_train[y_train.BA!=0].threshold.unique(), \n",
    "            x=new_y_train[y_train.BA!=0].threshold.cat.remove_categories(0).value_counts());"
   ]
  },
  {
   "cell_type": "code",
   "execution_count": null,
   "metadata": {},
   "outputs": [],
   "source": [
    "%%time\n",
    "\n",
    "sm1 = SMOTE(random_state=42)\n",
    "X_sm1, y_sm1 = sm1.fit_resample(X_train[y_train.BA!=0], new_y_train[y_train.BA>0])\n",
    "\n",
    "print(f'''Shape of X before SMOTE: {X_train[y_train.BA!=0].shape}\n",
    "Shape of X after SMOTE: {X_sm1.shape}''')\n",
    "\n",
    "print('\\nBalance of positive and negative classes (%):')\n",
    "y_sm1.value_counts(normalize=True) * 100"
   ]
  },
  {
   "cell_type": "code",
   "execution_count": null,
   "metadata": {},
   "outputs": [],
   "source": [
    "%%time\n",
    "\n",
    "clf1 = MLPClassifier(max_iter=300, activation='relu', alpha=0.0001, learning_rate='adaptive', hidden_layer_sizes=100, random_state=42)\n",
    "clf1.fit(X_sm1.drop('CNT', axis=1), y_sm1.threshold)"
   ]
  },
  {
   "cell_type": "code",
   "execution_count": null,
   "metadata": {},
   "outputs": [],
   "source": [
    "ba_distribution = pd.DataFrame(clf1.predict_proba(X_test.drop('CNT', axis=1)), columns=u_BA[1:])\n",
    "ba_distribution = ba_distribution.apply(lambda x: (1-p0[0][x.index])*x)\n",
    "ba_distribution.insert(0, '0', p0)\n",
    "ba_distribution = ba_distribution.cumsum(axis=1)\n",
    "ba_distribution.to_csv('prediction_ba.csv', index=False)\n",
    "ba_distribution"
   ]
  }
 ],
 "metadata": {
  "kernelspec": {
   "display_name": "Python 3",
   "language": "python",
   "name": "python3"
  },
  "language_info": {
   "codemirror_mode": {
    "name": "ipython",
    "version": 3
   },
   "file_extension": ".py",
   "mimetype": "text/x-python",
   "name": "python",
   "nbconvert_exporter": "python",
   "pygments_lexer": "ipython3",
   "version": "3.8.5"
  }
 },
 "nbformat": 4,
 "nbformat_minor": 4
}
